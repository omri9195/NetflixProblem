{
 "cells": [
  {
   "cell_type": "code",
   "execution_count": 162,
   "id": "957e3558",
   "metadata": {},
   "outputs": [],
   "source": [
    "import pandas as pd\n",
    "from sklearn.model_selection import train_test_split\n",
    "import numpy as np\n",
    "from surprise import SVD,NMF,KNNBaseline,KNNWithMeans,SVDpp\n",
    "from surprise import Dataset\n",
    "from surprise import accuracy\n",
    "from surprise import Reader\n",
    "np.random.seed(123)"
   ]
  },
  {
   "cell_type": "code",
   "execution_count": 150,
   "id": "c5f9370f",
   "metadata": {},
   "outputs": [],
   "source": [
    "# Read the ratings dataset\n",
    "ratings = pd.read_csv('ml-1m/ratings.dat', delimiter='::', engine='python')\n",
    "ratings = ratings.drop(columns=ratings.columns[-1])"
   ]
  },
  {
   "cell_type": "code",
   "execution_count": 151,
   "id": "f80808d9",
   "metadata": {},
   "outputs": [
    {
     "name": "stdout",
     "output_type": "stream",
     "text": [
      "Number of samples in test data:  2500\n",
      "\n"
     ]
    }
   ],
   "source": [
    "# Split the dataset into test and train data such that test_data size will be 2500\n",
    "train_data, test_data = train_test_split(ratings, test_size=0.0024994801)\n",
    "print(f\"Number of samples in test data: \",len(test_data))\n",
    "print(\"\")\n",
    "# Save the test data to a seperate data structure\n",
    "test_data_aside = test_data\n",
    "\n",
    "#Save only the real ratings in a data structure for later use - because I will calculate the RMSE myself\n",
    "real_ratings_test = test_data_aside.iloc[:, -1:].astype('float64')\n",
    "#Save without ratings\n",
    "data_no_ratings = test_data_aside.iloc[:, :-1].astype('float64')\n",
    "\n",
    "# Create a new matrix without the test data - this will be the training data\n",
    "train_matrix = ratings.drop(test_data.index)"
   ]
  },
  {
   "cell_type": "code",
   "execution_count": 152,
   "id": "08fc39a8",
   "metadata": {},
   "outputs": [],
   "source": [
    "# create a dataset from the train_matrix - this is neccesary to use surprise library\n",
    "reader = Reader(rating_scale=(1, 5))\n",
    "data = Dataset.load_from_df(train_matrix, reader=reader)"
   ]
  },
  {
   "cell_type": "markdown",
   "id": "c31a9d5e",
   "metadata": {},
   "source": [
    "# SVD"
   ]
  },
  {
   "cell_type": "code",
   "execution_count": 153,
   "id": "372b7f0d",
   "metadata": {},
   "outputs": [
    {
     "data": {
      "text/plain": [
       "<surprise.prediction_algorithms.matrix_factorization.SVD at 0x293c28eb0>"
      ]
     },
     "execution_count": 153,
     "metadata": {},
     "output_type": "execute_result"
    }
   ],
   "source": [
    "# load SVD algorithm\n",
    "algo = SVD()\n",
    "# as above this is neccesary for surprise library\n",
    "trainset = data.build_full_trainset()\n",
    "# train the algorithm on the dataset\n",
    "algo.fit(trainset)"
   ]
  },
  {
   "cell_type": "code",
   "execution_count": 154,
   "id": "696d607c",
   "metadata": {},
   "outputs": [],
   "source": [
    "# Approach 1 with 0 in the prediction set\n",
    "testset = test_data.iloc[:, :2]\n",
    "testset = [(row[0], row[1], 0) for row in testset.values]\n",
    "# Fetch predictions\n",
    "predictions = algo.test(testset)"
   ]
  },
  {
   "cell_type": "code",
   "execution_count": 155,
   "id": "5554266d",
   "metadata": {},
   "outputs": [],
   "source": [
    "#Approach 2 with real values for analysis\n",
    "test_data_aside = [(row[0], row[1], row[2]) for row in test_data_aside.values]\n",
    "# Fetch predictions\n",
    "predictions_ = algo.test(test_data_aside)"
   ]
  },
  {
   "cell_type": "code",
   "execution_count": 156,
   "id": "b5b77a98",
   "metadata": {},
   "outputs": [
    {
     "name": "stdout",
     "output_type": "stream",
     "text": [
      "Library Approach - RMSE calculation by existing imported function: \n",
      "RMSE: 0.8716\n",
      "\n"
     ]
    }
   ],
   "source": [
    "# calculate the RMSE - Library approach\n",
    "print(\"Library Approach - RMSE calculation by existing imported function: \")\n",
    "accuracy.rmse(predictions_)\n",
    "print(\"\")"
   ]
  },
  {
   "cell_type": "code",
   "execution_count": 157,
   "id": "0ca9e97e",
   "metadata": {},
   "outputs": [
    {
     "name": "stdout",
     "output_type": "stream",
     "text": [
      "RMSE calculated by me:\n",
      "RMSE:  0.8715878616300883\n",
      "\n",
      "The above approach has the same output as library approach, but I stick to the assignment guidelines of getting\n",
      "Predictions on a matrix that is filled with 0's, and then evaluating myself against the actual ratings\n",
      "The catch is that i conjecture that this is what the library approach does anyway\n",
      "\n",
      "\n"
     ]
    }
   ],
   "source": [
    "# RMSE calculated by me (Omri and not modules)\n",
    "print(\"RMSE calculated by me:\")\n",
    "real_ratings_test = real_ratings_test.values.tolist()\n",
    "\n",
    "# data structure to save results\n",
    "save_res = []\n",
    "real_rate = [] #this will be the same as real_ratings_test but without [value] per value - just value\n",
    "\n",
    "# calculating MSE below - this is not vectorized because of issues with predictions data structure\n",
    "# and anyway this takes no time so might as well do it this way and avoid a headache\n",
    "squared_errors_sum = 0\n",
    "\n",
    "for i in range(len(predictions)):\n",
    "    # Get the predicted rating and true rating\n",
    "    pred = predictions[i].est\n",
    "    true = real_ratings_test[i]\n",
    "    # Save ratings\n",
    "    save_res.append(pred)\n",
    "    real_rate.append(true[0])\n",
    "    # Calculate the squared error\n",
    "    squared_error = (pred - true[0]) ** 2\n",
    "    # Add to the sum\n",
    "    squared_errors_sum += squared_error\n",
    "\n",
    "# Calculate MSE\n",
    "MSE = squared_errors_sum / len(predictions)\n",
    "\n",
    "# Calculate RMSE\n",
    "rmse = MSE ** 0.5\n",
    "\n",
    "print(\"RMSE: \", rmse)\n",
    "print(\"\")\n",
    "\n",
    "print(\"The above approach has the same output as library approach, but I stick to the assignment guidelines of getting\")\n",
    "print(\"Predictions on a matrix that is filled with 0's, and then evaluating myself against the actual ratings\")\n",
    "print(\"The catch is that i conjecture that this is what the library approach does anyway\")\n",
    "print(\"\")\n",
    "print(\"\")"
   ]
  },
  {
   "cell_type": "code",
   "execution_count": 158,
   "id": "89c4e87a",
   "metadata": {},
   "outputs": [
    {
     "name": "stdout",
     "output_type": "stream",
     "text": [
      "Printing matrix with predictions below (of test data)\n",
      "\n",
      "             1    1193      Pred\n",
      "336959  1983.0  1884.0  3.423174\n",
      "916721  5539.0  2542.0  3.732724\n",
      "411097  2466.0  1748.0  3.269454\n",
      "887800  5364.0  3556.0  3.612072\n",
      "380305  2223.0  1500.0  3.358821\n",
      "...        ...     ...       ...\n",
      "8698      59.0  1251.0  3.371622\n",
      "819603  4927.0  2628.0  3.754358\n",
      "470335  2896.0  1672.0  3.976425\n",
      "849840  5103.0  1206.0  4.455958\n",
      "84069    550.0   293.0  3.943602\n",
      "\n",
      "[2500 rows x 3 columns]\n"
     ]
    }
   ],
   "source": [
    "print(\"Printing matrix with predictions below (of test data)\")\n",
    "print(\"\")\n",
    "\n",
    "# Add prediction to UserId,MovieID\n",
    "data_no_ratings = data_no_ratings.assign(Pred = save_res)\n",
    "\n",
    "print(data_no_ratings)"
   ]
  },
  {
   "cell_type": "code",
   "execution_count": 159,
   "id": "1cef7af0",
   "metadata": {},
   "outputs": [
    {
     "name": "stdout",
     "output_type": "stream",
     "text": [
      "Printing matrix with predictions and true ratings below (of test data)\n",
      "\n",
      "             1    1193      Pred  True_val\n",
      "336959  1983.0  1884.0  3.423174       5.0\n",
      "916721  5539.0  2542.0  3.732724       3.0\n",
      "411097  2466.0  1748.0  3.269454       4.0\n",
      "887800  5364.0  3556.0  3.612072       3.0\n",
      "380305  2223.0  1500.0  3.358821       3.0\n",
      "...        ...     ...       ...       ...\n",
      "8698      59.0  1251.0  3.371622       3.0\n",
      "819603  4927.0  2628.0  3.754358       4.0\n",
      "470335  2896.0  1672.0  3.976425       3.0\n",
      "849840  5103.0  1206.0  4.455958       5.0\n",
      "84069    550.0   293.0  3.943602       5.0\n",
      "\n",
      "[2500 rows x 4 columns]\n"
     ]
    }
   ],
   "source": [
    "print(\"Printing matrix with predictions and true ratings below (of test data)\")\n",
    "print(\"\")\n",
    "\n",
    "# Add real rating to UserId,MovieID,Pred\n",
    "data_no_ratings = data_no_ratings.assign(Pred = save_res)\n",
    "data_w_ratings = data_no_ratings.assign(True_val = real_rate)\n",
    "\n",
    "print(data_w_ratings)"
   ]
  },
  {
   "cell_type": "markdown",
   "id": "10cb1314",
   "metadata": {},
   "source": [
    "## Now that we did it once step by step in a modular fashion, lets create a function that recieves the desired algorithm and prints results"
   ]
  },
  {
   "cell_type": "code",
   "execution_count": 160,
   "id": "f6ed0b91",
   "metadata": {},
   "outputs": [],
   "source": [
    "def print_res(algorithm, test_data):\n",
    "    # Note that I am not commenting much here since this is almost exactly as the above code which I commented heavily\n",
    "    test_data_aside = test_data\n",
    "    real_ratings_test = test_data_aside.iloc[:, -1:].astype('float64')\n",
    "    data_no_ratings = test_data_aside.iloc[:, :-1].astype('float64')\n",
    "    train_matrix = ratings.drop(test_data.index)\n",
    "    \n",
    "    algo = algorithm\n",
    "    trainset = data.build_full_trainset()\n",
    "    algo.fit(trainset)\n",
    "\n",
    "    #Approach 1 with 0 in the prediction set\n",
    "    testset = test_data.iloc[:, :2]\n",
    "    testset = [(row[0], row[1], 0) for row in testset.values]\n",
    "    predictions = algo.test(testset)\n",
    "\n",
    "    #Approach 2 with real values for analysis\n",
    "    test_data_aside = [(row[0], row[1], row[2]) for row in test_data_aside.values]\n",
    "    predictions_ = algo.test(test_data_aside)\n",
    "\n",
    "    # calculate the RMSE - Library approach\n",
    "    print(\"Library Approach - RMSE calculation by existing imported function: \")\n",
    "    accuracy.rmse(predictions_)\n",
    "    print(\"\")\n",
    "\n",
    "    #RMSE calculated by me (Omri and not modules)\n",
    "    print(\"RMSE calculated by me:\")\n",
    "    real_ratings_test = real_ratings_test.values.tolist()\n",
    "\n",
    "    save_res = []\n",
    "    real_rate = [] #this will be the same as real_ratings_test but without [value] per value - just value\n",
    "\n",
    "    squared_errors_sum = 0\n",
    "\n",
    "\n",
    "    for i in range(len(predictions)):\n",
    "        pred = predictions[i].est\n",
    "        true = real_ratings_test[i]\n",
    "        save_res.append(pred)\n",
    "        real_rate.append(true[0])\n",
    "        squared_error = (pred - true[0]) ** 2\n",
    "        squared_errors_sum += squared_error\n",
    "        \n",
    "    MSE = squared_errors_sum / len(predictions)\n",
    "    rmse = MSE ** 0.5\n",
    "    print(\"RMSE: \", rmse)\n",
    "    print(\"\")\n",
    "    print(\"The above approach has the same output as library approach, but I stick to the assignment guidelines of getting\")\n",
    "    print(\"Predictions on a matrix that is filled with 0's, and then evaluating myself against the actual ratings\")\n",
    "    print(\"The catch is that i conjecture that this is what the library approach does anyway\")\n",
    "    print(\"\")\n",
    "    print(\"\")\n",
    "    print(\"Printing matrix with predictions below (of test data)\")\n",
    "    print(\"\")\n",
    "\n",
    "    data_no_ratings = data_no_ratings.assign(Pred = save_res)\n",
    "    print(data_no_ratings)\n",
    "    print(\"Printing matrix with predictions and true ratings below (of test data)\")\n",
    "    print(\"\")\n",
    "    data_no_ratings = data_no_ratings.assign(Pred = save_res)\n",
    "    data_w_ratings = data_no_ratings.assign(True_val = real_rate)\n",
    "    print(data_w_ratings)"
   ]
  },
  {
   "cell_type": "markdown",
   "id": "a912969f",
   "metadata": {},
   "source": [
    "# KNNBaseline"
   ]
  },
  {
   "cell_type": "code",
   "execution_count": 143,
   "id": "85bf273c",
   "metadata": {},
   "outputs": [
    {
     "name": "stdout",
     "output_type": "stream",
     "text": [
      "Estimating biases using als...\n",
      "Computing the msd similarity matrix...\n",
      "Done computing similarity matrix.\n",
      "RMSE: 0.9050\n",
      "Library Approach - RMSE calculation by existing imported function:  0.9049703267470137\n",
      "\n",
      "RMSE calculated by me:\n",
      "RMSE:  0.9049703267470125\n",
      "\n",
      "The above approach has the same output as library approach, but I stick to the assignment guidelines of getting\n",
      "Predictions on a matrix that is filled with 0's, and then evaluating myself against the actual ratings\n",
      "The catch is that i conjecture that this is what the library approach does anyway\n",
      "\n",
      "\n",
      "Printing matrix with predictions below (of test data)\n",
      "\n",
      "             1    1193      Pred\n",
      "336959  1983.0  1884.0  3.742275\n",
      "916721  5539.0  2542.0  3.705716\n",
      "411097  2466.0  1748.0  3.285874\n",
      "887800  5364.0  3556.0  3.786194\n",
      "380305  2223.0  1500.0  3.437437\n",
      "...        ...     ...       ...\n",
      "8698      59.0  1251.0  3.700167\n",
      "819603  4927.0  2628.0  3.554005\n",
      "470335  2896.0  1672.0  4.075840\n",
      "849840  5103.0  1206.0  5.000000\n",
      "84069    550.0   293.0  4.127164\n",
      "\n",
      "[2500 rows x 3 columns]\n",
      "Printing matrix with predictions and true ratings below (of test data)\n",
      "\n",
      "             1    1193      Pred  True_val\n",
      "336959  1983.0  1884.0  3.742275       5.0\n",
      "916721  5539.0  2542.0  3.705716       3.0\n",
      "411097  2466.0  1748.0  3.285874       4.0\n",
      "887800  5364.0  3556.0  3.786194       3.0\n",
      "380305  2223.0  1500.0  3.437437       3.0\n",
      "...        ...     ...       ...       ...\n",
      "8698      59.0  1251.0  3.700167       3.0\n",
      "819603  4927.0  2628.0  3.554005       4.0\n",
      "470335  2896.0  1672.0  4.075840       3.0\n",
      "849840  5103.0  1206.0  5.000000       5.0\n",
      "84069    550.0   293.0  4.127164       5.0\n",
      "\n",
      "[2500 rows x 4 columns]\n"
     ]
    }
   ],
   "source": [
    "print_res(KNNBaseline(),test_data)"
   ]
  },
  {
   "cell_type": "markdown",
   "id": "71325856",
   "metadata": {},
   "source": [
    "# KNNWithMeans"
   ]
  },
  {
   "cell_type": "code",
   "execution_count": 144,
   "id": "25728f8c",
   "metadata": {},
   "outputs": [
    {
     "name": "stdout",
     "output_type": "stream",
     "text": [
      "Computing the msd similarity matrix...\n",
      "Done computing similarity matrix.\n",
      "RMSE: 0.9453\n",
      "Library Approach - RMSE calculation by existing imported function:  0.9452914462200038\n",
      "\n",
      "RMSE calculated by me:\n",
      "RMSE:  0.9452914462200029\n",
      "\n",
      "The above approach has the same output as library approach, but I stick to the assignment guidelines of getting\n",
      "Predictions on a matrix that is filled with 0's, and then evaluating myself against the actual ratings\n",
      "The catch is that i conjecture that this is what the library approach does anyway\n",
      "\n",
      "\n",
      "Printing matrix with predictions below (of test data)\n",
      "\n",
      "             1    1193      Pred\n",
      "336959  1983.0  1884.0  3.549701\n",
      "916721  5539.0  2542.0  3.825037\n",
      "411097  2466.0  1748.0  3.060036\n",
      "887800  5364.0  3556.0  3.670475\n",
      "380305  2223.0  1500.0  3.337302\n",
      "...        ...     ...       ...\n",
      "8698      59.0  1251.0  3.832254\n",
      "819603  4927.0  2628.0  3.379729\n",
      "470335  2896.0  1672.0  3.745983\n",
      "849840  5103.0  1206.0  4.600581\n",
      "84069    550.0   293.0  3.834970\n",
      "\n",
      "[2500 rows x 3 columns]\n",
      "Printing matrix with predictions and true ratings below (of test data)\n",
      "\n",
      "             1    1193      Pred  True_val\n",
      "336959  1983.0  1884.0  3.549701       5.0\n",
      "916721  5539.0  2542.0  3.825037       3.0\n",
      "411097  2466.0  1748.0  3.060036       4.0\n",
      "887800  5364.0  3556.0  3.670475       3.0\n",
      "380305  2223.0  1500.0  3.337302       3.0\n",
      "...        ...     ...       ...       ...\n",
      "8698      59.0  1251.0  3.832254       3.0\n",
      "819603  4927.0  2628.0  3.379729       4.0\n",
      "470335  2896.0  1672.0  3.745983       3.0\n",
      "849840  5103.0  1206.0  4.600581       5.0\n",
      "84069    550.0   293.0  3.834970       5.0\n",
      "\n",
      "[2500 rows x 4 columns]\n"
     ]
    }
   ],
   "source": [
    "print_res(KNNWithMeans(),test_data)"
   ]
  },
  {
   "cell_type": "markdown",
   "id": "594c0957",
   "metadata": {},
   "source": [
    "# NMF"
   ]
  },
  {
   "cell_type": "code",
   "execution_count": 148,
   "id": "05302214",
   "metadata": {},
   "outputs": [
    {
     "name": "stdout",
     "output_type": "stream",
     "text": [
      "Library Approach - RMSE calculation by existing imported function: \n",
      "RMSE: 0.9286\n",
      "\n",
      "RMSE calculated by me:\n",
      "RMSE:  0.9285800842890745\n",
      "\n",
      "The above approach has the same output as library approach, but I stick to the assignment guidelines of getting\n",
      "Predictions on a matrix that is filled with 0's, and then evaluating myself against the actual ratings\n",
      "The catch is that i conjecture that this is what the library approach does anyway\n",
      "\n",
      "\n",
      "Printing matrix with predictions below (of test data)\n",
      "\n",
      "             1    1193      Pred\n",
      "336959  1983.0  1884.0  4.068487\n",
      "916721  5539.0  2542.0  3.888726\n",
      "411097  2466.0  1748.0  3.187604\n",
      "887800  5364.0  3556.0  3.874181\n",
      "380305  2223.0  1500.0  3.173197\n",
      "...        ...     ...       ...\n",
      "8698      59.0  1251.0  3.527827\n",
      "819603  4927.0  2628.0  3.772270\n",
      "470335  2896.0  1672.0  3.779615\n",
      "849840  5103.0  1206.0  5.000000\n",
      "84069    550.0   293.0  4.073146\n",
      "\n",
      "[2500 rows x 3 columns]\n",
      "Printing matrix with predictions and true ratings below (of test data)\n",
      "\n",
      "             1    1193      Pred  True_val\n",
      "336959  1983.0  1884.0  4.068487       5.0\n",
      "916721  5539.0  2542.0  3.888726       3.0\n",
      "411097  2466.0  1748.0  3.187604       4.0\n",
      "887800  5364.0  3556.0  3.874181       3.0\n",
      "380305  2223.0  1500.0  3.173197       3.0\n",
      "...        ...     ...       ...       ...\n",
      "8698      59.0  1251.0  3.527827       3.0\n",
      "819603  4927.0  2628.0  3.772270       4.0\n",
      "470335  2896.0  1672.0  3.779615       3.0\n",
      "849840  5103.0  1206.0  5.000000       5.0\n",
      "84069    550.0   293.0  4.073146       5.0\n",
      "\n",
      "[2500 rows x 4 columns]\n"
     ]
    }
   ],
   "source": [
    "print_res(NMF(),test_data)"
   ]
  },
  {
   "cell_type": "markdown",
   "id": "57d3eac9",
   "metadata": {},
   "source": [
    "# SVD++"
   ]
  },
  {
   "cell_type": "code",
   "execution_count": 146,
   "id": "050c2b9a",
   "metadata": {},
   "outputs": [
    {
     "name": "stdout",
     "output_type": "stream",
     "text": [
      "RMSE: 0.8668\n",
      "Library Approach - RMSE calculation by existing imported function:  0.8668456874528642\n",
      "\n",
      "RMSE calculated by me:\n",
      "RMSE:  0.8668456874528642\n",
      "\n",
      "The above approach has the same output as library approach, but I stick to the assignment guidelines of getting\n",
      "Predictions on a matrix that is filled with 0's, and then evaluating myself against the actual ratings\n",
      "The catch is that i conjecture that this is what the library approach does anyway\n",
      "\n",
      "\n",
      "Printing matrix with predictions below (of test data)\n",
      "\n",
      "             1    1193      Pred\n",
      "336959  1983.0  1884.0  3.912996\n",
      "916721  5539.0  2542.0  3.158015\n",
      "411097  2466.0  1748.0  3.519759\n",
      "887800  5364.0  3556.0  3.919585\n",
      "380305  2223.0  1500.0  2.938335\n",
      "...        ...     ...       ...\n",
      "8698      59.0  1251.0  3.223597\n",
      "819603  4927.0  2628.0  3.688566\n",
      "470335  2896.0  1672.0  3.832621\n",
      "849840  5103.0  1206.0  4.820497\n",
      "84069    550.0   293.0  4.287275\n",
      "\n",
      "[2500 rows x 3 columns]\n",
      "Printing matrix with predictions and true ratings below (of test data)\n",
      "\n",
      "             1    1193      Pred  True_val\n",
      "336959  1983.0  1884.0  3.912996       5.0\n",
      "916721  5539.0  2542.0  3.158015       3.0\n",
      "411097  2466.0  1748.0  3.519759       4.0\n",
      "887800  5364.0  3556.0  3.919585       3.0\n",
      "380305  2223.0  1500.0  2.938335       3.0\n",
      "...        ...     ...       ...       ...\n",
      "8698      59.0  1251.0  3.223597       3.0\n",
      "819603  4927.0  2628.0  3.688566       4.0\n",
      "470335  2896.0  1672.0  3.832621       3.0\n",
      "849840  5103.0  1206.0  4.820497       5.0\n",
      "84069    550.0   293.0  4.287275       5.0\n",
      "\n",
      "[2500 rows x 4 columns]\n"
     ]
    }
   ],
   "source": [
    "print_res(SVDpp(),test_data)"
   ]
  },
  {
   "cell_type": "markdown",
   "id": "3324b0ca",
   "metadata": {},
   "source": [
    "# Ensemble section\n",
    "### In this section we explore combining two algorithms together at each time"
   ]
  },
  {
   "cell_type": "markdown",
   "id": "475f0edc",
   "metadata": {},
   "source": [
    "Note that in the beginning of each code in each sub section there will be w1,w2, these can be changed to give more weight to first/second algorithm in the ensemble"
   ]
  },
  {
   "cell_type": "code",
   "execution_count": 200,
   "id": "30e3d751",
   "metadata": {},
   "outputs": [],
   "source": [
    "def print_res_ensemble(algo1,algo2, test_data,w1,w2):\n",
    "    # Note that I am not commenting much here since this is almost exactly as the above code which i commented heavily\n",
    "    test_data_aside = test_data\n",
    "    real_ratings_test = test_data_aside.iloc[:, -1:].astype('float64')\n",
    "    data_no_ratings = test_data_aside.iloc[:, :-1].astype('float64')\n",
    "    train_matrix = ratings.drop(test_data.index)\n",
    "    \n",
    "    \n",
    "    trainset = data.build_full_trainset()\n",
    "    algo1.fit(trainset)\n",
    "    algo2.fit(trainset)\n",
    "\n",
    "    testset = test_data.iloc[:, :2]\n",
    "    testset = [(row[0], row[1], 0) for row in testset.values]\n",
    "    predictions1 = algo1.test(testset)\n",
    "    predictions2 = algo2.test(testset)\n",
    "    \n",
    "    ensemble_pred = [(predictions1[i].uid, predictions1[i].iid, (predictions1[i].est*w1 + predictions2[i].est*w2)) for i in range(len(test_data))]\n",
    "    \n",
    "\n",
    "    #RMSE calculated by me (Omri and not modules)\n",
    "    real_ratings_test = real_ratings_test.values.tolist()\n",
    "\n",
    "    save_res = []\n",
    "    real_rate = [] #this will be the same as real_ratings_test but without [value] per value - just value\n",
    "\n",
    "    squared_errors_sum = 0\n",
    "\n",
    "\n",
    "    for i in range(len(predictions)):\n",
    "        pred = ensemble_pred[i][2]\n",
    "        true = real_ratings_test[i]\n",
    "        save_res.append(pred)\n",
    "        real_rate.append(true[0])\n",
    "        squared_error = (pred - true[0]) ** 2\n",
    "        squared_errors_sum += squared_error\n",
    "        \n",
    "    MSE = squared_errors_sum / len(ensemble_pred)\n",
    "    rmse = MSE ** 0.5\n",
    "    print(\"RMSE: \", rmse)\n",
    "    print(\"Printing matrix with predictions below (of test data)\")\n",
    "    print(\"\")\n",
    "\n",
    "    data_no_ratings = data_no_ratings.assign(Pred = save_res)\n",
    "    print(data_no_ratings)\n",
    "    print(\"Printing matrix with predictions and true ratings below (of test data)\")\n",
    "    print(\"\")\n",
    "    data_no_ratings = data_no_ratings.assign(Pred = save_res)\n",
    "    data_w_ratings = data_no_ratings.assign(True_val = real_rate)\n",
    "    print(data_w_ratings)"
   ]
  },
  {
   "cell_type": "code",
   "execution_count": 201,
   "id": "8277f610",
   "metadata": {},
   "outputs": [],
   "source": [
    "svd = SVD()\n",
    "nmf = NMF()\n",
    "knnbase = KNNBaseline()\n",
    "knnmean = KNNWithMeans()\n",
    "svdpp = SVDpp()"
   ]
  },
  {
   "cell_type": "markdown",
   "id": "46806811",
   "metadata": {},
   "source": [
    "## SVD + NMF"
   ]
  },
  {
   "cell_type": "code",
   "execution_count": 202,
   "id": "e23c62c6",
   "metadata": {},
   "outputs": [
    {
     "name": "stdout",
     "output_type": "stream",
     "text": [
      "RMSE:  0.8786962949139095\n",
      "Printing matrix with predictions below (of test data)\n",
      "\n",
      "             1    1193      Pred\n",
      "336959  1983.0  1884.0  4.144815\n",
      "916721  5539.0  2542.0  3.503192\n",
      "411097  2466.0  1748.0  3.138109\n",
      "887800  5364.0  3556.0  3.633866\n",
      "380305  2223.0  1500.0  3.210406\n",
      "...        ...     ...       ...\n",
      "8698      59.0  1251.0  3.463774\n",
      "819603  4927.0  2628.0  3.809834\n",
      "470335  2896.0  1672.0  3.849093\n",
      "849840  5103.0  1206.0  4.884576\n",
      "84069    550.0   293.0  4.194686\n",
      "\n",
      "[2500 rows x 3 columns]\n",
      "Printing matrix with predictions and true ratings below (of test data)\n",
      "\n",
      "             1    1193      Pred  True_val\n",
      "336959  1983.0  1884.0  4.144815       5.0\n",
      "916721  5539.0  2542.0  3.503192       3.0\n",
      "411097  2466.0  1748.0  3.138109       4.0\n",
      "887800  5364.0  3556.0  3.633866       3.0\n",
      "380305  2223.0  1500.0  3.210406       3.0\n",
      "...        ...     ...       ...       ...\n",
      "8698      59.0  1251.0  3.463774       3.0\n",
      "819603  4927.0  2628.0  3.809834       4.0\n",
      "470335  2896.0  1672.0  3.849093       3.0\n",
      "849840  5103.0  1206.0  4.884576       5.0\n",
      "84069    550.0   293.0  4.194686       5.0\n",
      "\n",
      "[2500 rows x 4 columns]\n"
     ]
    }
   ],
   "source": [
    "w1 = 0.5\n",
    "w2 = 0.5\n",
    "print_res_ensemble(svd,nmf,test_data,w1,w2)"
   ]
  },
  {
   "cell_type": "markdown",
   "id": "491b223d",
   "metadata": {},
   "source": [
    "## SVD + KNNBase"
   ]
  },
  {
   "cell_type": "code",
   "execution_count": 197,
   "id": "5c7798b9",
   "metadata": {},
   "outputs": [
    {
     "name": "stdout",
     "output_type": "stream",
     "text": [
      "Estimating biases using als...\n",
      "Computing the msd similarity matrix...\n",
      "Done computing similarity matrix.\n",
      "RMSE:  0.8734560161756824\n",
      "Printing matrix with predictions below (of test data)\n",
      "\n",
      "             1    1193      Pred\n",
      "336959  1983.0  1884.0  3.614364\n",
      "916721  5539.0  2542.0  3.659183\n",
      "411097  2466.0  1748.0  3.386835\n",
      "887800  5364.0  3556.0  3.814199\n",
      "380305  2223.0  1500.0  3.362490\n",
      "...        ...     ...       ...\n",
      "8698      59.0  1251.0  3.489179\n",
      "819603  4927.0  2628.0  3.666225\n",
      "470335  2896.0  1672.0  3.967010\n",
      "849840  5103.0  1206.0  4.740992\n",
      "84069    550.0   293.0  4.245054\n",
      "\n",
      "[2500 rows x 3 columns]\n",
      "Printing matrix with predictions and true ratings below (of test data)\n",
      "\n",
      "             1    1193      Pred  True_val\n",
      "336959  1983.0  1884.0  3.614364       5.0\n",
      "916721  5539.0  2542.0  3.659183       3.0\n",
      "411097  2466.0  1748.0  3.386835       4.0\n",
      "887800  5364.0  3556.0  3.814199       3.0\n",
      "380305  2223.0  1500.0  3.362490       3.0\n",
      "...        ...     ...       ...       ...\n",
      "8698      59.0  1251.0  3.489179       3.0\n",
      "819603  4927.0  2628.0  3.666225       4.0\n",
      "470335  2896.0  1672.0  3.967010       3.0\n",
      "849840  5103.0  1206.0  4.740992       5.0\n",
      "84069    550.0   293.0  4.245054       5.0\n",
      "\n",
      "[2500 rows x 4 columns]\n"
     ]
    }
   ],
   "source": [
    "w1 = 0.5\n",
    "w2 = 0.5\n",
    "print_res_ensemble(svd,knnbase,test_data,w1,w2)"
   ]
  },
  {
   "cell_type": "markdown",
   "id": "1619f4c0",
   "metadata": {},
   "source": [
    "## SVD + KNNmean"
   ]
  },
  {
   "cell_type": "code",
   "execution_count": 198,
   "id": "13c07d4d",
   "metadata": {},
   "outputs": [
    {
     "name": "stdout",
     "output_type": "stream",
     "text": [
      "Computing the msd similarity matrix...\n",
      "Done computing similarity matrix.\n",
      "RMSE:  0.8826589030893733\n",
      "Printing matrix with predictions below (of test data)\n",
      "\n",
      "             1    1193      Pred\n",
      "336959  1983.0  1884.0  3.651859\n",
      "916721  5539.0  2542.0  3.832160\n",
      "411097  2466.0  1748.0  3.130887\n",
      "887800  5364.0  3556.0  3.524966\n",
      "380305  2223.0  1500.0  3.368824\n",
      "...        ...     ...       ...\n",
      "8698      59.0  1251.0  3.504920\n",
      "819603  4927.0  2628.0  3.561740\n",
      "470335  2896.0  1672.0  3.911558\n",
      "849840  5103.0  1206.0  4.504979\n",
      "84069    550.0   293.0  3.932813\n",
      "\n",
      "[2500 rows x 3 columns]\n",
      "Printing matrix with predictions and true ratings below (of test data)\n",
      "\n",
      "             1    1193      Pred  True_val\n",
      "336959  1983.0  1884.0  3.651859       5.0\n",
      "916721  5539.0  2542.0  3.832160       3.0\n",
      "411097  2466.0  1748.0  3.130887       4.0\n",
      "887800  5364.0  3556.0  3.524966       3.0\n",
      "380305  2223.0  1500.0  3.368824       3.0\n",
      "...        ...     ...       ...       ...\n",
      "8698      59.0  1251.0  3.504920       3.0\n",
      "819603  4927.0  2628.0  3.561740       4.0\n",
      "470335  2896.0  1672.0  3.911558       3.0\n",
      "849840  5103.0  1206.0  4.504979       5.0\n",
      "84069    550.0   293.0  3.932813       5.0\n",
      "\n",
      "[2500 rows x 4 columns]\n"
     ]
    }
   ],
   "source": [
    "w1 = 0.5\n",
    "w2 = 0.5\n",
    "print_res_ensemble(svd,knnmean,test_data,w1,w2)"
   ]
  },
  {
   "cell_type": "markdown",
   "id": "b1c6549a",
   "metadata": {},
   "source": [
    "## NMF + SVDpp"
   ]
  },
  {
   "cell_type": "code",
   "execution_count": 203,
   "id": "849acd3f",
   "metadata": {},
   "outputs": [
    {
     "name": "stdout",
     "output_type": "stream",
     "text": [
      "RMSE:  0.8799423653212551\n",
      "Printing matrix with predictions below (of test data)\n",
      "\n",
      "             1    1193      Pred\n",
      "336959  1983.0  1884.0  3.912680\n",
      "916721  5539.0  2542.0  3.536867\n",
      "411097  2466.0  1748.0  3.360398\n",
      "887800  5364.0  3556.0  3.831776\n",
      "380305  2223.0  1500.0  3.234815\n",
      "...        ...     ...       ...\n",
      "8698      59.0  1251.0  3.468135\n",
      "819603  4927.0  2628.0  3.821867\n",
      "470335  2896.0  1672.0  3.800453\n",
      "849840  5103.0  1206.0  4.811450\n",
      "84069    550.0   293.0  4.141300\n",
      "\n",
      "[2500 rows x 3 columns]\n",
      "Printing matrix with predictions and true ratings below (of test data)\n",
      "\n",
      "             1    1193      Pred  True_val\n",
      "336959  1983.0  1884.0  3.912680       5.0\n",
      "916721  5539.0  2542.0  3.536867       3.0\n",
      "411097  2466.0  1748.0  3.360398       4.0\n",
      "887800  5364.0  3556.0  3.831776       3.0\n",
      "380305  2223.0  1500.0  3.234815       3.0\n",
      "...        ...     ...       ...       ...\n",
      "8698      59.0  1251.0  3.468135       3.0\n",
      "819603  4927.0  2628.0  3.821867       4.0\n",
      "470335  2896.0  1672.0  3.800453       3.0\n",
      "849840  5103.0  1206.0  4.811450       5.0\n",
      "84069    550.0   293.0  4.141300       5.0\n",
      "\n",
      "[2500 rows x 4 columns]\n"
     ]
    }
   ],
   "source": [
    "w1 = 0.5\n",
    "w2 = 0.5\n",
    "print_res_ensemble(svdpp,nmf,test_data,w1,w2)"
   ]
  },
  {
   "cell_type": "markdown",
   "id": "472cbb9b",
   "metadata": {},
   "source": [
    "## SVDpp + KNNBase"
   ]
  },
  {
   "cell_type": "code",
   "execution_count": 204,
   "id": "18b53233",
   "metadata": {},
   "outputs": [
    {
     "name": "stdout",
     "output_type": "stream",
     "text": [
      "Estimating biases using als...\n",
      "Computing the msd similarity matrix...\n",
      "Done computing similarity matrix.\n",
      "RMSE:  0.8649140663551184\n",
      "Printing matrix with predictions below (of test data)\n",
      "\n",
      "             1    1193      Pred\n",
      "336959  1983.0  1884.0  3.760400\n",
      "916721  5539.0  2542.0  3.488509\n",
      "411097  2466.0  1748.0  3.386564\n",
      "887800  5364.0  3556.0  3.772984\n",
      "380305  2223.0  1500.0  3.282718\n",
      "...        ...     ...       ...\n",
      "8698      59.0  1251.0  3.425559\n",
      "819603  4927.0  2628.0  3.677333\n",
      "470335  2896.0  1672.0  3.924004\n",
      "849840  5103.0  1206.0  4.921688\n",
      "84069    550.0   293.0  4.196777\n",
      "\n",
      "[2500 rows x 3 columns]\n",
      "Printing matrix with predictions and true ratings below (of test data)\n",
      "\n",
      "             1    1193      Pred  True_val\n",
      "336959  1983.0  1884.0  3.760400       5.0\n",
      "916721  5539.0  2542.0  3.488509       3.0\n",
      "411097  2466.0  1748.0  3.386564       4.0\n",
      "887800  5364.0  3556.0  3.772984       3.0\n",
      "380305  2223.0  1500.0  3.282718       3.0\n",
      "...        ...     ...       ...       ...\n",
      "8698      59.0  1251.0  3.425559       3.0\n",
      "819603  4927.0  2628.0  3.677333       4.0\n",
      "470335  2896.0  1672.0  3.924004       3.0\n",
      "849840  5103.0  1206.0  4.921688       5.0\n",
      "84069    550.0   293.0  4.196777       5.0\n",
      "\n",
      "[2500 rows x 4 columns]\n"
     ]
    }
   ],
   "source": [
    "w1 = 0.5\n",
    "w2 = 0.5\n",
    "print_res_ensemble(svdpp,knnbase,test_data,w1,w2)"
   ]
  },
  {
   "cell_type": "markdown",
   "id": "cc3c6f4d",
   "metadata": {},
   "source": [
    "# Ensemble of all algorithms together (can play with weights)\n",
    "### below the function definition below, there are 5 weights, each weight corresponds to an algorithm in the order they are written, you can play around with the weights and assign each algorithm more or less weight - of course assigning an algorithm 0 weight will make it negligent - and assigning only two algorithms non zero weights will yield the above 2 pair ensembles (which is a special case of this ensemble), enjoy :)"
   ]
  },
  {
   "cell_type": "code",
   "execution_count": 205,
   "id": "65eb5ff8",
   "metadata": {},
   "outputs": [],
   "source": [
    "def print_res_ensemble_all(algo1,algo2,algo3,algo4,algo5, test_data,w1,w2,w3,w4,w5):\n",
    "    # Note that I am not commenting much here since this is almost exactly as the above code which i commented heavily\n",
    "    test_data_aside = test_data\n",
    "    real_ratings_test = test_data_aside.iloc[:, -1:].astype('float64')\n",
    "    data_no_ratings = test_data_aside.iloc[:, :-1].astype('float64')\n",
    "    train_matrix = ratings.drop(test_data.index)\n",
    "    \n",
    "    \n",
    "    trainset = data.build_full_trainset()\n",
    "    algo1.fit(trainset)\n",
    "    algo2.fit(trainset)\n",
    "    algo3.fit(trainset)\n",
    "    algo4.fit(trainset)\n",
    "    algo5.fit(trainset)\n",
    "\n",
    "    #Approach 1 with 0 in the prediction set\n",
    "    testset = test_data.iloc[:, :2]\n",
    "    testset = [(row[0], row[1], 0) for row in testset.values]\n",
    "    predictions1 = algo1.test(testset)\n",
    "    predictions2 = algo2.test(testset)\n",
    "    predictions3 = algo3.test(testset)\n",
    "    predictions4 = algo4.test(testset)\n",
    "    predictions5 = algo5.test(testset)\n",
    "\n",
    "    \n",
    "    ensemble_pred = [(predictions1[i].uid, predictions1[i].iid, (predictions1[i].est*w1 + predictions2[i].est*w2 + predictions3[i].est*w3 + predictions4[i].est*w4 + predictions5[i].est*w5)) for i in range(len(test_data))]\n",
    "    \n",
    "\n",
    "    #RMSE calculated by me (Omri and not modules)\n",
    "    real_ratings_test = real_ratings_test.values.tolist()\n",
    "\n",
    "    save_res = []\n",
    "    real_rate = [] #this will be the same as real_ratings_test but without [value] per value - just value\n",
    "\n",
    "    squared_errors_sum = 0\n",
    "\n",
    "\n",
    "    for i in range(len(predictions)):\n",
    "        pred = ensemble_pred[i][2]\n",
    "        true = real_ratings_test[i]\n",
    "        save_res.append(pred)\n",
    "        real_rate.append(true[0])\n",
    "        squared_error = (pred - true[0]) ** 2\n",
    "        squared_errors_sum += squared_error\n",
    "        \n",
    "    MSE = squared_errors_sum / len(ensemble_pred)\n",
    "    rmse = MSE ** 0.5\n",
    "    print(\"RMSE: \", rmse)\n",
    "    print(\"Printing matrix with predictions below (of test data)\")\n",
    "    print(\"\")\n",
    "\n",
    "    data_no_ratings = data_no_ratings.assign(Pred = save_res)\n",
    "    print(data_no_ratings)\n",
    "    print(\"Printing matrix with predictions and true ratings below (of test data)\")\n",
    "    print(\"\")\n",
    "    data_no_ratings = data_no_ratings.assign(Pred = save_res)\n",
    "    data_w_ratings = data_no_ratings.assign(True_val = real_rate)\n",
    "    print(data_w_ratings)"
   ]
  },
  {
   "cell_type": "code",
   "execution_count": 206,
   "id": "46fb54b9",
   "metadata": {},
   "outputs": [],
   "source": [
    "svd = SVD()\n",
    "nmf = NMF()\n",
    "knnbase = KNNBaseline()\n",
    "knnmean = KNNWithMeans()\n",
    "svdpp = SVDpp()\n",
    "w1 = 0.2\n",
    "w2 = 0.2\n",
    "w3 = 0.2\n",
    "w4 = 0.2\n",
    "w5 = 0.2"
   ]
  },
  {
   "cell_type": "code",
   "execution_count": 209,
   "id": "3bc39743",
   "metadata": {},
   "outputs": [
    {
     "name": "stdout",
     "output_type": "stream",
     "text": [
      "Estimating biases using als...\n",
      "Computing the msd similarity matrix...\n",
      "Done computing similarity matrix.\n",
      "Computing the msd similarity matrix...\n",
      "Done computing similarity matrix.\n",
      "RMSE:  0.881456717902454\n",
      "Printing matrix with predictions below (of test data)\n",
      "\n",
      "             1    1193      Pred\n",
      "336959  1983.0  1884.0  3.771443\n",
      "916721  5539.0  2542.0  3.613028\n",
      "411097  2466.0  1748.0  3.159610\n",
      "887800  5364.0  3556.0  3.858112\n",
      "380305  2223.0  1500.0  3.293648\n",
      "...        ...     ...       ...\n",
      "8698      59.0  1251.0  3.501371\n",
      "819603  4927.0  2628.0  3.611931\n",
      "470335  2896.0  1672.0  3.790564\n",
      "849840  5103.0  1206.0  4.854605\n",
      "84069    550.0   293.0  4.174607\n",
      "\n",
      "[2500 rows x 3 columns]\n",
      "Printing matrix with predictions and true ratings below (of test data)\n",
      "\n",
      "             1    1193      Pred  True_val\n",
      "336959  1983.0  1884.0  3.771443       5.0\n",
      "916721  5539.0  2542.0  3.613028       3.0\n",
      "411097  2466.0  1748.0  3.159610       4.0\n",
      "887800  5364.0  3556.0  3.858112       3.0\n",
      "380305  2223.0  1500.0  3.293648       3.0\n",
      "...        ...     ...       ...       ...\n",
      "8698      59.0  1251.0  3.501371       3.0\n",
      "819603  4927.0  2628.0  3.611931       4.0\n",
      "470335  2896.0  1672.0  3.790564       3.0\n",
      "849840  5103.0  1206.0  4.854605       5.0\n",
      "84069    550.0   293.0  4.174607       5.0\n",
      "\n",
      "[2500 rows x 4 columns]\n"
     ]
    }
   ],
   "source": [
    "print_res_ensemble_all(svd,nmf,knnbase,knnmean,svdpp,test_data,w1,w2,w3,w4,w5)"
   ]
  },
  {
   "cell_type": "code",
   "execution_count": null,
   "id": "e887f99a",
   "metadata": {},
   "outputs": [],
   "source": []
  }
 ],
 "metadata": {
  "kernelspec": {
   "display_name": "Python 3.9 (tensorflow)",
   "language": "python",
   "name": "tensorflow"
  },
  "language_info": {
   "codemirror_mode": {
    "name": "ipython",
    "version": 3
   },
   "file_extension": ".py",
   "mimetype": "text/x-python",
   "name": "python",
   "nbconvert_exporter": "python",
   "pygments_lexer": "ipython3",
   "version": "3.9.14"
  }
 },
 "nbformat": 4,
 "nbformat_minor": 5
}
